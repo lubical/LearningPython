{
 "cells": [
  {
   "cell_type": "code",
   "execution_count": 3,
   "metadata": {},
   "outputs": [
    {
     "data": {
      "text/plain": [
       "274877906944"
      ]
     },
     "execution_count": 3,
     "metadata": {},
     "output_type": "execute_result"
    }
   ],
   "source": [
    "pow(2,38)"
   ]
  },
  {
   "cell_type": "code",
   "execution_count": 20,
   "metadata": {},
   "outputs": [
    {
     "data": {
      "text/plain": [
       "'ocr'"
      ]
     },
     "execution_count": 20,
     "metadata": {},
     "output_type": "execute_result"
    }
   ],
   "source": [
    "# Apply dictionary mapping to the encrypted text.\n",
    "from string import ascii_lowercase\n",
    "alph_mp=str.maketrans(ascii_lowercase, ascii_lowercase[2:]+ascii_lowercase[:2])\n",
    "text = \"g fmnc wms bgblr rpylqjyrc gr zw fylb. rfyrq ufyr amknsrcpq ypc dmp. bmgle gr gl zw fylb gq glcddgagclr ylb rfyr'q ufw rfgq rcvr gq qm jmle. sqgle qrpgle.kyicrpylq() gq pcamkkclbcb. lmu ynnjw ml rfc spj.\"\n",
    "text.translate(alph_mp)\n",
    "\"map\".translate(alph_mp)\n",
    "# http://www.pythonchallenge.com/pc/def/ocr.html"
   ]
  },
  {
   "cell_type": "code",
   "execution_count": 31,
   "metadata": {},
   "outputs": [
    {
     "name": "stdout",
     "output_type": "stream",
     "text": [
      "{'\\n': 1221, '%': 6104, '$': 6046, '@': 6157, '_': 6112, '^': 6030, '#': 6115, ')': 6186, '&': 6043, '!': 6079, '+': 6066, ']': 6152, '*': 6034, '}': 6105, '[': 6108, '(': 6154, '{': 6046, 'e': 1, 'q': 1, 'u': 1, 'a': 1, 'l': 1, 'i': 1, 't': 1, 'y': 1}\n"
     ]
    }
   ],
   "source": [
    "import urllib.request\n",
    "import re\n",
    "from collections import Counter\n",
    "html = urllib.request.urlopen(\"http://www.pythonchallenge.com/pc/def/ocr.html\").read().decode() # 获取网页源代码\n",
    "text = re.findall(\"<!--(.*?)-->\", html, re.DOTALL)[-1] # 正则匹配出要的字符串\n",
    "count = {}\n",
    "for i in text:\n",
    "\tcount[i] = count.get(i,0)+1  # map计数\n",
    "print(count)\n",
    "# equality"
   ]
  },
  {
   "cell_type": "code",
   "execution_count": 32,
   "metadata": {},
   "outputs": [
    {
     "name": "stdout",
     "output_type": "stream",
     "text": [
      "linkedlist\n"
     ]
    }
   ],
   "source": [
    "# One small letter, surrounded by EXACTLY three big bodyguards on each of its sides.\n",
    "import urllib.request\n",
    "import re\n",
    "from collections import Counter\n",
    "html = urllib.request.urlopen(\"http://www.pythonchallenge.com/pc/def/equality.html\").read().decode() # 获取网页源代码\n",
    "text = re.findall(\"<!--(.*?)-->\", html, re.DOTALL)[-1] # 正则匹配出要的字符串\n",
    "result  = \"\".join(re.findall(\"[^A-Z]+[A-Z]{3}([a-z])[A-Z]{3}[^A-Z]+\", text))\n",
    "print(result)\n",
    "# linkedlist\n"
   ]
  },
  {
   "cell_type": "code",
   "execution_count": 38,
   "metadata": {},
   "outputs": [
    {
     "name": "stdout",
     "output_type": "stream",
     "text": [
      "and the next nothing is 25357\n",
      "and the next nothing is 89879\n",
      "and the next nothing is 80119\n",
      "and the next nothing is 50290\n",
      "and the next nothing is 9297\n",
      "and the next nothing is 30571\n",
      "and the next nothing is 7414\n",
      "and the next nothing is 30978\n",
      "and the next nothing is 16408\n",
      "and the next nothing is 80109\n",
      "and the next nothing is 55736\n",
      "and the next nothing is 15357\n",
      "and the next nothing is 80887\n",
      "and the next nothing is 35014\n",
      "and the next nothing is 16523\n",
      "and the next nothing is 50286\n",
      "and the next nothing is 34813\n",
      "and the next nothing is 77562\n",
      "and the next nothing is 54746\n",
      "and the next nothing is 22680\n",
      "and the next nothing is 19705\n",
      "and the next nothing is 77000\n",
      "and the next nothing is 27634\n",
      "and the next nothing is 21008\n",
      "and the next nothing is 64994\n",
      "and the next nothing is 66109\n",
      "and the next nothing is 37855\n",
      "and the next nothing is 36383\n",
      "and the next nothing is 68548\n",
      "and the next nothing is 96070\n",
      "and the next nothing is 83051\n",
      "and the next nothing is 58026\n",
      "and the next nothing is 44726\n",
      "and the next nothing is 35748\n",
      "and the next nothing is 61287\n",
      "and the next nothing is 559\n",
      "and the next nothing is 81318\n",
      "and the next nothing is 50443\n",
      "and the next nothing is 1570\n",
      "and the next nothing is 75244\n",
      "and the next nothing is 56265\n",
      "and the next nothing is 17694\n",
      "and the next nothing is 48033\n",
      "and the next nothing is 56523\n",
      "and the next nothing is 51253\n",
      "and the next nothing is 85750\n",
      "and the next nothing is 42760\n",
      "and the next nothing is 11877\n",
      "and the next nothing is 15962\n",
      "and the next nothing is 75494\n",
      "and the next nothing is 87283\n",
      "and the next nothing is 40396\n",
      "and the next nothing is 49574\n",
      "and the next nothing is 82682\n",
      "There maybe misleading numbers in the \n",
      "text. One example is 82683. Look only for the next nothing and the next nothing is 63579\n",
      "and the next nothing is 37278\n",
      "and the next nothing is 53548\n",
      "and the next nothing is 66081\n",
      "and the next nothing is 67753\n",
      "and the next nothing is 56337\n",
      "and the next nothing is 3356\n",
      "and the next nothing is 94525\n",
      "and the next nothing is 89574\n",
      "and the next nothing is 4413\n",
      "and the next nothing is 82294\n",
      "and the next nothing is 56060\n",
      "and the next nothing is 95493\n",
      "and the next nothing is 80865\n",
      "and the next nothing is 66242\n",
      "and the next nothing is 16065\n",
      "and the next nothing is 62145\n",
      "and the next nothing is 23147\n",
      "and the next nothing is 83763\n",
      "and the next nothing is 62381\n",
      "and the next nothing is 76841\n",
      "and the next nothing is 91706\n",
      "and the next nothing is 9268\n",
      "and the next nothing is 64814\n",
      "and the next nothing is 80809\n",
      "and the next nothing is 14039\n",
      "and the next nothing is 73355\n",
      "and the next nothing is 81905\n",
      "and the next nothing is 36402\n",
      "and the next nothing is 27221\n",
      "and the next nothing is 79607\n",
      "and the next nothing is 91763\n",
      "and the next nothing is 11631\n",
      "and the next nothing is 76396\n",
      "and the next nothing is 69905\n",
      "and the next nothing is 11073\n",
      "and the next nothing is 71281\n",
      "and the next nothing is 54345\n",
      "and the next nothing is 19047\n",
      "and the next nothing is 34376\n",
      "and the next nothing is 3193\n",
      "and the next nothing is 74258\n",
      "and the next nothing is 62712\n",
      "and the next nothing is 1823\n",
      "and the next nothing is 21232\n",
      "and the next nothing is 87890\n",
      "and the next nothing is 21545\n",
      "and the next nothing is 37136\n",
      "and the next nothing is 23060\n",
      "and the next nothing is 5385\n",
      "and the next nothing is 4620\n",
      "and the next nothing is 39111\n",
      "and the next nothing is 35914\n",
      "and the next nothing is 60310\n",
      "and the next nothing is 19178\n",
      "and the next nothing is 44671\n",
      "and the next nothing is 45736\n",
      "and the next nothing is 9216\n",
      "and the next nothing is 12585\n",
      "and the next nothing is 11302\n",
      "and the next nothing is 33096\n",
      "and the next nothing is 13967\n",
      "and the next nothing is 57004\n",
      "and the next nothing is 64196\n",
      "and the next nothing is 73929\n",
      "and the next nothing is 24800\n",
      "and the next nothing is 25081\n",
      "and the next nothing is 90033\n",
      "and the next nothing is 45919\n",
      "and the next nothing is 54827\n",
      "and the next nothing is 73950\n",
      "and the next nothing is 56978\n",
      "and the next nothing is 8133\n",
      "and the next nothing is 61900\n",
      "and the next nothing is 47769\n",
      "and the next nothing is 631\n",
      "and the next nothing is 2284\n",
      "and the next nothing is 60074\n",
      "and the next nothing is 35959\n",
      "and the next nothing is 57158\n",
      "and the next nothing is 90990\n",
      "and the next nothing is 27935\n",
      "and the next nothing is 99927\n",
      "and the next nothing is 41785\n",
      "and the next nothing is 32660\n",
      "and the next nothing is 4328\n",
      "and the next nothing is 42067\n",
      "and the next nothing is 8743\n",
      "and the next nothing is 38613\n",
      "and the next nothing is 21100\n",
      "and the next nothing is 77864\n",
      "and the next nothing is 6523\n",
      "and the next nothing is 6927\n",
      "and the next nothing is 82930\n",
      "and the next nothing is 35846\n",
      "and the next nothing is 31785\n",
      "and the next nothing is 41846\n",
      "and the next nothing is 72387\n",
      "and the next nothing is 59334\n",
      "and the next nothing is 65520\n",
      "and the next nothing is 93781\n",
      "and the next nothing is 55840\n",
      "and the next nothing is 80842\n",
      "and the next nothing is 59022\n",
      "and the next nothing is 23298\n",
      "and the next nothing is 27709\n",
      "and the next nothing is 96791\n",
      "and the next nothing is 75635\n",
      "and the next nothing is 52899\n",
      "and the next nothing is 66831\n",
      "peak.html\n"
     ]
    },
    {
     "ename": "IndexError",
     "evalue": "list index out of range",
     "output_type": "error",
     "traceback": [
      "\u001b[0;31m---------------------------------------------------------------------------\u001b[0m",
      "\u001b[0;31mIndexError\u001b[0m                                Traceback (most recent call last)",
      "\u001b[0;32m<ipython-input-38-50dc372c8764>\u001b[0m in \u001b[0;36m<module>\u001b[0;34m\u001b[0m\n\u001b[1;32m      6\u001b[0m     \u001b[0mhtml\u001b[0m \u001b[0;34m=\u001b[0m \u001b[0murllib\u001b[0m\u001b[0;34m.\u001b[0m\u001b[0mrequest\u001b[0m\u001b[0;34m.\u001b[0m\u001b[0murlopen\u001b[0m\u001b[0;34m(\u001b[0m\u001b[0murl\u001b[0m\u001b[0;34m+\u001b[0m\u001b[0mnumber\u001b[0m\u001b[0;34m)\u001b[0m\u001b[0;34m.\u001b[0m\u001b[0mread\u001b[0m\u001b[0;34m(\u001b[0m\u001b[0;34m)\u001b[0m\u001b[0;34m.\u001b[0m\u001b[0mdecode\u001b[0m\u001b[0;34m(\u001b[0m\u001b[0;34m)\u001b[0m \u001b[0;31m# 获取网页源代码\u001b[0m\u001b[0;34m\u001b[0m\u001b[0;34m\u001b[0m\u001b[0m\n\u001b[1;32m      7\u001b[0m     \u001b[0mprint\u001b[0m\u001b[0;34m(\u001b[0m\u001b[0mhtml\u001b[0m\u001b[0;34m)\u001b[0m\u001b[0;34m\u001b[0m\u001b[0;34m\u001b[0m\u001b[0m\n\u001b[0;32m----> 8\u001b[0;31m     \u001b[0mnumber\u001b[0m \u001b[0;34m=\u001b[0m \u001b[0mre\u001b[0m\u001b[0;34m.\u001b[0m\u001b[0mfindall\u001b[0m\u001b[0;34m(\u001b[0m\u001b[0;34m\"\\d+\"\u001b[0m\u001b[0;34m,\u001b[0m \u001b[0mhtml\u001b[0m\u001b[0;34m)\u001b[0m\u001b[0;34m[\u001b[0m\u001b[0;34m-\u001b[0m\u001b[0;36m1\u001b[0m\u001b[0;34m]\u001b[0m  \u001b[0;31m#提取数字\u001b[0m\u001b[0;34m\u001b[0m\u001b[0;34m\u001b[0m\u001b[0m\n\u001b[0m",
      "\u001b[0;31mIndexError\u001b[0m: list index out of range"
     ]
    }
   ],
   "source": [
    "import urllib.request\n",
    "import re\n",
    "url = \"http://www.pythonchallenge.com/pc/def/linkedlist.php?nothing=\"\n",
    "number = str(16044/2)\n",
    "while True:\n",
    "    html = urllib.request.urlopen(url+number).read().decode() # 获取网页源代码\n",
    "    print(html)\n",
    "    number = re.findall(\"\\d+\", html)[-1]  #提取数字\n",
    "# peak.html"
   ]
  },
  {
   "cell_type": "code",
   "execution_count": 44,
   "metadata": {},
   "outputs": [
    {
     "name": "stdout",
     "output_type": "stream",
     "text": [
      "                                                                                               \n",
      "              #####                                                                      ##### \n",
      "               ####                                                                       #### \n",
      "               ####                                                                       #### \n",
      "               ####                                                                       #### \n",
      "               ####                                                                       #### \n",
      "               ####                                                                       #### \n",
      "               ####                                                                       #### \n",
      "               ####                                                                       #### \n",
      "      ###      ####   ###         ###       #####   ###    #####   ###          ###       #### \n",
      "   ###   ##    #### #######     ##  ###      #### #######   #### #######     ###  ###     #### \n",
      "  ###     ###  #####    ####   ###   ####    #####    ####  #####    ####   ###     ###   #### \n",
      " ###           ####     ####   ###    ###    ####     ####  ####     ####  ###      ####  #### \n",
      " ###           ####     ####          ###    ####     ####  ####     ####  ###       ###  #### \n",
      "####           ####     ####     ##   ###    ####     ####  ####     #### ####       ###  #### \n",
      "####           ####     ####   ##########    ####     ####  ####     #### ##############  #### \n",
      "####           ####     ####  ###    ####    ####     ####  ####     #### ####            #### \n",
      "####           ####     #### ####     ###    ####     ####  ####     #### ####            #### \n",
      " ###           ####     #### ####     ###    ####     ####  ####     ####  ###            #### \n",
      "  ###      ##  ####     ####  ###    ####    ####     ####  ####     ####   ###      ##   #### \n",
      "   ###    ##   ####     ####   ###########   ####     ####  ####     ####    ###    ##    #### \n",
      "      ###     ######    #####    ##    #### ######    ###########    #####      ###      ######\n",
      "                                                                                               \n"
     ]
    }
   ],
   "source": [
    "import pickle\n",
    "from urllib.request import urlopen\n",
    "import requests\n",
    "text = pickle.load(urlopen(\"http://www.pythonchallenge.com/pc/def/banner.p\"))\n",
    "for line in text:\n",
    "    print(\"\".join([k*v for k,v in line]))"
   ]
  },
  {
   "cell_type": "code",
   "execution_count": 78,
   "metadata": {},
   "outputs": [
    {
     "name": "stdout",
     "output_type": "stream",
     "text": [
      "****************************************************************\n",
      "****************************************************************\n",
      "**                                                            **\n",
      "**   OO    OO    XX      YYYY    GG    GG  EEEEEE NN      NN  **\n",
      "**   OO    OO  XXXXXX   YYYYYY   GG   GG   EEEEEE  NN    NN   **\n",
      "**   OO    OO XXX  XXX YYY   YY  GG GG     EE       NN  NN    **\n",
      "**   OOOOOOOO XX    XX YY        GGG       EEEEE     NNNN     **\n",
      "**   OOOOOOOO XX    XX YY        GGG       EEEEE      NN      **\n",
      "**   OO    OO XXX  XXX YYY   YY  GG GG     EE         NN      **\n",
      "**   OO    OO  XXXXXX   YYYYYY   GG   GG   EEEEEE     NN      **\n",
      "**   OO    OO    XX      YYYY    GG    GG  EEEEEE     NN      **\n",
      "**                                                            **\n",
      "****************************************************************\n",
      " **************************************************************\n",
      "\n"
     ]
    }
   ],
   "source": [
    "from zipfile import ZipFile\n",
    "with ZipFile('data/channel.zip') as myzip:\n",
    "    number = \"90052\"\n",
    "    resultList = []\n",
    "    while True:\n",
    "        file = number+\".txt\"\n",
    "        letter = myzip.getinfo(file).comment.decode() \n",
    "        resultList.append(letter)\n",
    "        with myzip.open(number+\".txt\") as myfile:\n",
    "            match = re.search(\"Next nothing is (\\d+)\",myfile.read().decode())\n",
    "            if match == None:\n",
    "                break\n",
    "            number = match.group(1)\n",
    "    print(''.join(resultList))  # 提示看字母， oxygen"
   ]
  },
  {
   "cell_type": "code",
   "execution_count": 88,
   "metadata": {},
   "outputs": [
    {
     "name": "stdout",
     "output_type": "stream",
     "text": [
      "(629, 95)\n",
      "smart guy, you made it. the next level is [105, 110, 116, 101, 103, 114, 105, 116, 121]pe_\n",
      "integrity\n"
     ]
    }
   ],
   "source": [
    "%matplotlib inline\n",
    "#!pip install Pillow\n",
    "from PIL import Image\n",
    "# import requests\n",
    "# from io import BytesIO\n",
    "# response = requests.get('http://www.pythonchallenge.com/pc/def/oxygen.png')\n",
    "# response = response.content\n",
    "# BytesIOObj = BytesIO()\n",
    "# BytesIOObj.write(response)\n",
    "# img = Image.open(BytesIOObj)\n",
    "img = Image.open(\"data/oxygen.png\")\n",
    "print(img.size) # (629, 95) 水平宽度与垂直宽度， getpixel（x,y) x水平位置，y垂直位置\n",
    "print(''.join([chr(i[0]) for i in [img.getpixel((j, img.size[1] / 2)) for j in range(0, img.size[0], 7)]]))\n",
    "result = [105, 110, 116, 101, 103, 114, 105, 116, 121]\n",
    "print(\"\".join(chr(i) for i in result))"
   ]
  },
  {
   "cell_type": "code",
   "execution_count": 91,
   "metadata": {},
   "outputs": [
    {
     "name": "stdout",
     "output_type": "stream",
     "text": [
      "b'huge' b'file'\n"
     ]
    }
   ],
   "source": [
    "import bz2\n",
    "un=b'BZh91AY&SYA\\xaf\\x82\\r\\x00\\x00\\x01\\x01\\x80\\x02\\xc0\\x02\\x00 \\x00!\\x9ah3M\\x07<]\\xc9\\x14\\xe1BA\\x06\\xbe\\x084'\n",
    "pw=b'BZh91AY&SY\\x94$|\\x0e\\x00\\x00\\x00\\x81\\x00\\x03$ \\x00!\\x9ah3M\\x13<]\\xc9\\x14\\xe1BBP\\x91\\xf08'\n",
    "username = bz2.decompress(un)\n",
    "password = bz2.decompress(pw)\n",
    "print(username,password)"
   ]
  },
  {
   "cell_type": "code",
   "execution_count": 123,
   "metadata": {},
   "outputs": [],
   "source": [
    "%matplotlib inline\n",
    "from PIL import Image,ImageDraw\n",
    "\n",
    "first = [146,399,163,403,170,393,169,391,166,386,170,381,170,371,170,355,169,346,167,335,170,329,170,320,170,\n",
    "310,171,301,173,290,178,289,182,287,188,286,190,286,192,291,194,296,195,305,194,307,191,312,190,316,\n",
    "190,321,192,331,193,338,196,341,197,346,199,352,198,360,197,366,197,373,196,380,197,383,196,387,192,\n",
    "389,191,392,190,396,189,400,194,401,201,402,208,403,213,402,216,401,219,397,219,393,216,390,215,385,\n",
    "215,379,213,373,213,365,212,360,210,353,210,347,212,338,213,329,214,319,215,311,215,306,216,296,218,\n",
    "290,221,283,225,282,233,284,238,287,243,290,250,291,255,294,261,293,265,291,271,291,273,289,278,287,\n",
    "279,285,281,280,284,278,284,276,287,277,289,283,291,286,294,291,296,295,299,300,301,304,304,320,305,\n",
    "327,306,332,307,341,306,349,303,354,301,364,301,371,297,375,292,384,291,386,302,393,324,391,333,387,\n",
    "328,375,329,367,329,353,330,341,331,328,336,319,338,310,341,304,341,285,341,278,343,269,344,262,346,\n",
    "259,346,251,349,259,349,264,349,273,349,280,349,288,349,295,349,298,354,293,356,286,354,279,352,268,\n",
    "352,257,351,249,350,234,351,211,352,197,354,185,353,171,351,154,348,147,342,137,339,132,330,122,327,\n",
    "120,314,116,304,117,293,118,284,118,281,122,275,128,265,129,257,131,244,133,239,134,228,136,221,137,\n",
    "214,138,209,135,201,132,192,130,184,131,175,129,170,131,159,134,157,134,160,130,170,125,176,114,176,\n",
    "102,173,103,172,108,171,111,163,115,156,116,149,117,142,116,136,115,129,115,124,115,120,115,115,117,\n",
    "113,120,109,122,102,122,100,121,95,121,89,115,87,110,82,109,84,118,89,123,93,129,100,130,108,132,110,\n",
    "133,110,136,107,138,105,140,95,138,86,141,79,149,77,155,81,162,90,165,97,167,99,171,109,171,107,161,\n",
    "111,156,113,170,115,185,118,208,117,223,121,239,128,251,133,259,136,266,139,276,143,290,148,310,151,\n",
    "332,155,348,156,353,153,366,149,379,147,394,146,399]\n",
    "second = [156,141,165,135,169,131,176,130,187,134,191,140,191,146,186,150,179,155,175,157,168,157,163,157,159,\n",
    "157,158,164,159,175,159,181,157,191,154,197,153,205,153,210,152,212,147,215,146,218,143,220,132,220,\n",
    "125,217,119,209,116,196,115,185,114,172,114,167,112,161,109,165,107,170,99,171,97,167,89,164,81,162,\n",
    "77,155,81,148,87,140,96,138,105,141,110,136,111,126,113,129,118,117,128,114,137,115,146,114,155,115,\n",
    "158,121,157,128,156,134,157,136,156,136]\n",
    "\n",
    "im = Image.open(\"data/good.jpg\")\n",
    "nim = Image.new(im.mode, im.size)\n",
    "draw = ImageDraw.Draw(nim)\n",
    "draw.line(first, fill='#fff')\n",
    "draw.line(second, fill='#fff')\n",
    "nim.show()"
   ]
  },
  {
   "cell_type": "code",
   "execution_count": 128,
   "metadata": {},
   "outputs": [
    {
     "name": "stdout",
     "output_type": "stream",
     "text": [
      "5808\n"
     ]
    }
   ],
   "source": [
    "# 1,11,21,1211,111221\n",
    "# 从第二个开始，是对前一个连续数字个数的描述，如11表示1代表1个1，21表示11代表2个1\n",
    "import re\n",
    "def describe(s):\n",
    "    return \"\".join([str(len(m.group(0))) + m.group(1) for m in re.finditer(r\"(\\d)\\1*\", s)])  \n",
    "    # \\1*表示多个与(\\d)相同的字符 \n",
    "s = \"1\"\n",
    "for dummy in range(30):\n",
    "    s = describe(s)\n",
    "print(len(s))  # prints 5808"
   ]
  },
  {
   "cell_type": "code",
   "execution_count": 137,
   "metadata": {},
   "outputs": [],
   "source": [
    "from PIL import Image,ImageDraw\n",
    "img = Image.open('data/cave.jpg')\n",
    "xlen,ylen = img.size\n",
    "new_img = Image.new('RGB', (xlen//2, ylen//2))\n",
    "for x in range(0,xlen,2):\n",
    "    for y in range(0,ylen,2):\n",
    "            pixel = img.getpixel((x, y))\n",
    "            new_img.putpixel((x//2, y//2), pixel)\n",
    "new_img.show()\n",
    "\n",
    "# new_img = Image.new('RGB', (xlen//2, ylen//2))\n",
    "# for x in range(0,xlen,2):\n",
    "#     for y in range(1,ylen,2):\n",
    "#             pixel = img.getpixel((x, y))\n",
    "#             new_img.putpixel((x//2, y//2), pixel)\n",
    "# new_img.show()\n"
   ]
  },
  {
   "cell_type": "code",
   "execution_count": 140,
   "metadata": {},
   "outputs": [],
   "source": [
    "f = open('data/evil2.gfx','rb')\n",
    "content = f.read()\n",
    "f.close()\n",
    " \n",
    "for i in range(5):\n",
    "    f = open('%d.jpg' % i, 'wb')\n",
    "    f.write(content[i::5])  # 从i开始，步长为5\n",
    "    f.close()"
   ]
  },
  {
   "cell_type": "code",
   "execution_count": 153,
   "metadata": {},
   "outputs": [
    {
     "name": "stdout",
     "output_type": "stream",
     "text": [
      "['phone', 'system.listMethods', 'system.methodHelp', 'system.methodSignature', 'system.multicall', 'system.getCapabilities']\n",
      "Returns the phone of a person\n",
      "555-ITALY\n"
     ]
    }
   ],
   "source": [
    "\n",
    "# xmlrpclib模块在python3中重命名为xmlrpc.client \n",
    "import xmlrpc.client\n",
    "\n",
    "xmlrpc = xmlrpc.client.ServerProxy(\"http://www.pythonchallenge.com/pc/phonebook.php\")\n",
    "print(xmlrpc.system.listMethods())\n",
    "print(xmlrpc.system.methodHelp('phone'))\n",
    "print(xmlrpc.phone('Bert'))\n"
   ]
  },
  {
   "cell_type": "code",
   "execution_count": 158,
   "metadata": {},
   "outputs": [],
   "source": [
    "# 10000*1 拆分成100*100， 100*100=(100+99+99+98)+... 向右走100步，向上走99步，向左走99步，向下走98步\n",
    "from PIL import Image\n",
    "strip = Image.open('data/wire.png')\n",
    "spiral = Image.new(strip.mode, (100,100), 0)\n",
    "dirs = [(1,0),(0,1),(-1,0),(0,-1)]  # 右，上，左，下 \n",
    "x,y,z = -1,0,0\n",
    "for i in range(200):  # 绕一圈四个方向，一共可以有100/2=50圈，总共需要4*50=200次\n",
    "    d = dirs[i % 4]  # 四个方向循环，%4 得到当前方向，步数x，x-1，x-1，x-2，%4余数，0，1，2，3，（+1）%2余数为0，1，1，2\n",
    "    for j in range(100 - (i + 1) // 2):\n",
    "        x += d[0]\n",
    "        y += d[1]\n",
    "        spiral.putpixel((x,y), strip.getpixel((z,0)))\n",
    "        z += 1\n",
    "#spiral.save('spiral.png')\n",
    "spiral.show()"
   ]
  },
  {
   "cell_type": "code",
   "execution_count": 167,
   "metadata": {},
   "outputs": [
    {
     "name": "stdout",
     "output_type": "stream",
     "text": [
      "1976\n",
      "1756\n",
      "1576\n",
      "1356\n",
      "1176\n"
     ]
    }
   ],
   "source": [
    "import datetime\n",
    "for year in range(1996,1006,-20): # 1xx6年，闰年4年一次，10与4最小公倍数为20，故减20\n",
    "    if datetime.date(year, 1, 1).weekday() == 3:  \n",
    "        print(year,)"
   ]
  },
  {
   "cell_type": "code",
   "execution_count": 185,
   "metadata": {
    "scrolled": true
   },
   "outputs": [],
   "source": [
    "from PIL import Image,ImageChops\n",
    "im = Image.open(\"data/mozart.gif\")\n",
    "magic = 195\n",
    "for y in range(im.size[1]):\n",
    "    box = 0, y, im.size[0], y + 1\n",
    "    row = image.crop(box)  # The crop rectangle, as a (left, upper, right, lower)-tuple.\n",
    "    bytes1 = row.tobytes()\n",
    "    i = bytes1.index(magic)\n",
    "    row = ImageChops.offset(row, -i)  # Returns a copy of the image where data has been offset by the given distances.\n",
    "    image.paste(row, box)\n",
    "#     bytes1 = bytes1[i:] + bytes1[:i]#shift pink to the right border\n",
    "#     row.fromstring(bytes1)\n",
    "#     im.paste(row, box)\n",
    "image.show()"
   ]
  },
  {
   "cell_type": "code",
   "execution_count": 217,
   "metadata": {},
   "outputs": [
    {
     "name": "stdout",
     "output_type": "stream",
     "text": [
      "Staring to follow the busynothing chain, but also picking up the crumbs!\n",
      "1: If you came here from level 4 - go back!<br>You should follow the obvious chain...<br><br>and the next busynothing is 44827\n",
      "2: and the next busynothing is 45439\n",
      "3: and the next busynothing is 94485\n",
      "4: and the next busynothing is 72198\n",
      "5: and the next busynothing is 80992\n",
      "6: and the next busynothing is 8880\n",
      "7: and the next busynothing is 40961\n",
      "8: and the next busynothing is 58765\n",
      "9: and the next busynothing is 46561\n",
      "10: and the next busynothing is 13418\n",
      "11: and the next busynothing is 41954\n",
      "12: and the next busynothing is 46782\n",
      "13: and the next busynothing is 92730\n",
      "14: and the next busynothing is 89229\n",
      "15: and the next busynothing is 25646\n",
      "16: and the next busynothing is 74288\n",
      "17: and the next busynothing is 25945\n",
      "18: and the next busynothing is 39876\n",
      "19: and the next busynothing is 8498\n",
      "20: and the next busynothing is 34684\n",
      "21: and the next busynothing is 62316\n",
      "22: and the next busynothing is 71331\n",
      "23: and the next busynothing is 59717\n",
      "24: and the next busynothing is 76893\n",
      "25: and the next busynothing is 44091\n",
      "26: and the next busynothing is 73241\n",
      "27: and the next busynothing is 19242\n",
      "28: and the next busynothing is 17476\n",
      "29: and the next busynothing is 39566\n",
      "30: and the next busynothing is 81293\n",
      "31: and the next busynothing is 25857\n",
      "32: and the next busynothing is 74343\n",
      "33: and the next busynothing is 39410\n",
      "34: and the next busynothing is 5505\n",
      "35: and the next busynothing is 27104\n",
      "36: and the next busynothing is 54003\n",
      "37: and the next busynothing is 23501\n",
      "38: and the next busynothing is 21110\n",
      "39: and the next busynothing is 88399\n",
      "40: and the next busynothing is 49740\n",
      "41: and the next busynothing is 31552\n",
      "42: and the next busynothing is 39998\n",
      "43: and the next busynothing is 19755\n",
      "44: and the next busynothing is 64624\n",
      "45: and the next busynothing is 37817\n",
      "46: and the next busynothing is 43427\n",
      "47: and the next busynothing is 15115\n",
      "48: and the next busynothing is 44327\n",
      "49: and the next busynothing is 7715\n",
      "50: and the next busynothing is 15248\n",
      "51: and the next busynothing is 61895\n",
      "52: and the next busynothing is 54759\n",
      "53: and the next busynothing is 54270\n",
      "54: and the next busynothing is 51332\n",
      "55: and the next busynothing is 63481\n",
      "56: and the next busynothing is 12362\n",
      "57: and the next busynothing is 94476\n",
      "58: and the next busynothing is 87810\n",
      "59: and the next busynothing is 6027\n",
      "60: and the next busynothing is 47551\n",
      "61: and the next busynothing is 79498\n",
      "62: and the next busynothing is 81226\n",
      "63: and the next busynothing is 4256\n",
      "64: and the next busynothing is 62734\n",
      "65: and the next busynothing is 25666\n",
      "66: and the next busynothing is 14781\n",
      "67: and the next busynothing is 21412\n",
      "68: and the next busynothing is 55205\n",
      "69: and the next busynothing is 65516\n",
      "70: and the next busynothing is 53535\n",
      "71: and the next busynothing is 4437\n",
      "72: and the next busynothing is 43442\n",
      "73: and the next busynothing is 91308\n",
      "74: and the next busynothing is 1312\n",
      "75: and the next busynothing is 36268\n",
      "76: and the next busynothing is 34289\n",
      "77: and the next busynothing is 46384\n",
      "78: and the next busynothing is 18097\n",
      "79: and the next busynothing is 9401\n",
      "80: and the next busynothing is 54249\n",
      "81: and the next busynothing is 29247\n",
      "82: and the next busynothing is 13115\n",
      "83: and the next busynothing is 23053\n",
      "84: and the next busynothing is 3875\n",
      "85: and the next busynothing is 16044\n",
      "86: and the next busynothing is 8022\n",
      "87: and the next busynothing is 25357\n",
      "88: and the next busynothing is 89879\n",
      "89: and the next busynothing is 80119\n",
      "90: and the next busynothing is 50290\n",
      "91: and the next busynothing is 9297\n",
      "92: and the next busynothing is 30571\n",
      "93: and the next busynothing is 7414\n",
      "94: and the next busynothing is 30978\n",
      "95: and the next busynothing is 16408\n",
      "96: and the next busynothing is 80109\n",
      "97: and the next busynothing is 55736\n",
      "98: and the next busynothing is 15357\n",
      "99: and the next busynothing is 80887\n",
      "100: and the next busynothing is 35014\n",
      "101: and the next busynothing is 16523\n",
      "102: and the next busynothing is 50286\n",
      "103: and the next busynothing is 34813\n",
      "104: and the next busynothing is 77562\n",
      "105: and the next busynothing is 54746\n",
      "106: and the next busynothing is 22680\n",
      "107: and the next busynothing is 19705\n",
      "108: and the next busynothing is 77000\n",
      "109: and the next busynothing is 27634\n",
      "110: and the next busynothing is 21008\n",
      "111: and the next busynothing is 64994\n",
      "112: and the next busynothing is 66109\n",
      "113: and the next busynothing is 37855\n",
      "114: and the next busynothing is 36383\n",
      "115: and the next busynothing is 68548\n",
      "116: and the next busynothing is 96070\n",
      "117: and the next busynothing is 83051\n",
      "Done retrieving cookies\n",
      "\n",
      "Decompressing the message\n",
      "The message is: is it the 26th already? call his father and inform him that \"the flowers are on their way\". he'll understand.\n",
      "\n",
      "Mozart was born to Leopold...\n",
      "Looking up Leopold\n",
      "Leopold's number is: 555-VIOLIN\n",
      "\n",
      "Calling Leopold and sending him the mssage\n",
      "Message sent!\n",
      "\n",
      "His response is...\n",
      "b'<html>\\n<head>\\n  <title>it\\'s me. what do you want?</title>\\n  <link rel=\"stylesheet\" type=\"text/css\" href=\"../style.css\">\\n</head>\\n<body>\\n\\t<br><br>\\n\\t<center><font color=\"gold\">\\n\\t<img src=\"leopold.jpg\" border=\"0\"/>\\n<br><br>\\noh well, don\\'t you dare to forget the balloons.</font>\\n</body>\\n</html>\\n'\n"
     ]
    }
   ],
   "source": [
    "#http://www.pythonchallenge.com/pc/return/romance.html\n",
    "import urllib.request, urllib.error, urllib.parse\n",
    "from urllib.parse import quote_plus, unquote_plus\n",
    "from urllib import request,response,parse\n",
    "import http.cookiejar\n",
    "import re\n",
    "print(\"Staring to follow the busynothing chain, but also picking up the crumbs!\")\n",
    "cj = http.cookiejar.CookieJar()\n",
    "opener = urllib.request.build_opener(urllib.request.HTTPCookieProcessor(cj),urllib.request.HTTPHandler())\n",
    "def getPage(nothing=\"12345\"):\n",
    "\turl = \"http://www.pythonchallenge.com/pc/def/linkedlist.php?busynothing=\"\n",
    "\treq = urllib.request.Request(url+nothing)\n",
    "\tresponse = opener.open(req)\n",
    "\treturn response.read().decode()\n",
    "\n",
    "pat = re.compile(r\"(.*?)and the next busynothing is (\\d*)$\")\n",
    "num = 12345\n",
    "cookievals = []\n",
    "count = 0\n",
    "while True:\n",
    "\tcount += 1\n",
    "\tm = pat.match(getPage(str(num)))\n",
    "\tfor cookie in cj:\n",
    "\t\tcookievals.append(cookie.value)\n",
    "\tif m == None:\n",
    "\t\tbreak\n",
    "\telif count > 400:\n",
    "\t\tprint(\"400 times is more than enough\")\n",
    "\t\tbreak\n",
    "\telse:\n",
    "\t\tprint(str(count) + \": \" + m.group(0))\n",
    "\t\tnum = int(m.group(2))\n",
    "print(\"Done retrieving cookies\")\n",
    "print()\n",
    "print(\"Decompressing the message\")\n",
    "import bz2\n",
    "ans = \"\".join(cookievals)\n",
    "message = bz2.decompress(parse.unquote_to_bytes(ans.replace('+', '%20'))).decode('ascii')\n",
    "print(\"The message is: %s\" % message)\n",
    "print()\n",
    "print(\"Mozart was born to Leopold...\")\n",
    "print(\"Looking up Leopold\")\n",
    "##Call his father Leopold\n",
    "import xmlrpc.client\n",
    "x= xmlrpc.client.ServerProxy(\"http://www.pythonchallenge.com/pc/phonebook.php\")\n",
    "number = x.phone(\"Leopold\")\n",
    "print(\"Leopold's number is: %s\" % number) \n",
    "print()\n",
    "print(\"Calling Leopold and sending him the mssage\")\n",
    "o = urllib.request.build_opener()\n",
    "message = \"the flowers are on their way\"\n",
    "o.addheaders.append(('Cookie', 'info='+quote_plus(message)))\n",
    "res = o.open(\"http://www.pythonchallenge.com/pc/stuff/violin.php\")\n",
    "print(\"Message sent!\")\n",
    "print()\n",
    "print(\"His response is...\")\n",
    "print(res.read())"
   ]
  },
  {
   "cell_type": "code",
   "execution_count": null,
   "metadata": {},
   "outputs": [],
   "source": []
  },
  {
   "cell_type": "code",
   "execution_count": null,
   "metadata": {},
   "outputs": [],
   "source": []
  }
 ],
 "metadata": {
  "kernelspec": {
   "display_name": "Python 3",
   "language": "python",
   "name": "python3"
  },
  "language_info": {
   "codemirror_mode": {
    "name": "ipython",
    "version": 3
   },
   "file_extension": ".py",
   "mimetype": "text/x-python",
   "name": "python",
   "nbconvert_exporter": "python",
   "pygments_lexer": "ipython3",
   "version": "3.7.3"
  }
 },
 "nbformat": 4,
 "nbformat_minor": 2
}
