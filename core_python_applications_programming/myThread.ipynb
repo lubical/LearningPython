{
 "cells": [
  {
   "cell_type": "code",
   "execution_count": 4,
   "metadata": {},
   "outputs": [
    {
     "name": "stdout",
     "output_type": "stream",
     "text": [
      "Overwriting myThread.py\n"
     ]
    }
   ],
   "source": [
    "%%writefile myThread.py\n",
    "#!/usr/bin/env python\n",
    "\n",
    "import threading\n",
    "from time import ctime\n",
    "\n",
    "class MyThread(threading.Thread):\n",
    "    \n",
    "    def __init__(self, func, args, name=''):\n",
    "        threading.Thread.__init__(self)\n",
    "        self.name = name\n",
    "        self.func = func\n",
    "        self.args = args\n",
    "        \n",
    "    def getResult(self):\n",
    "        return self.res\n",
    "        \n",
    "    def run(self):\n",
    "        print('staring {} at: {}'.format(self.name, ctime()))\n",
    "        self.res = self.func(*self.args)\n",
    "        print('{} finished at: {}'.format(self.name, ctime()))"
   ]
  },
  {
   "cell_type": "markdown",
   "metadata": {},
   "source": [
    "## Comparing Single vs. Multithreaded Execution"
   ]
  },
  {
   "cell_type": "code",
   "execution_count": 7,
   "metadata": {},
   "outputs": [
    {
     "name": "stdout",
     "output_type": "stream",
     "text": [
      "*** SINGLE THREAD\n",
      "starting fib at: Sat May 25 12:08:06 2019\n",
      "233\n",
      "fib finished at: Sat May 25 12:08:08 2019\n",
      "starting fac at: Sat May 25 12:08:08 2019\n",
      "479001600\n",
      "fac finished at: Sat May 25 12:08:09 2019\n",
      "starting sum at: Sat May 25 12:08:09 2019\n",
      "78\n",
      "sum finished at: Sat May 25 12:08:11 2019\n",
      "\n",
      "*** MULTIPLE THREADS\n",
      "staring fib at: Sat May 25 12:08:11 2019staring fac at: Sat May 25 12:08:11 2019\n",
      "\n",
      "staring sum at: Sat May 25 12:08:11 2019\n",
      "sum finished at: Sat May 25 12:08:12 2019\n",
      "fac finished at: Sat May 25 12:08:12 2019\n",
      "fib finished at: Sat May 25 12:08:13 2019\n",
      "233\n",
      "479001600\n",
      "78\n",
      "all DONE\n"
     ]
    }
   ],
   "source": [
    "#!/usr/bin/env python \n",
    "from myThread import MyThread\n",
    "from time import ctime, sleep\n",
    "\n",
    "def fib(x):\n",
    "    sleep(0.005)\n",
    "    if x < 2: return 1\n",
    "    return (fib(x-2) + fib(x-1))\n",
    "\n",
    "def fac(x):\n",
    "    sleep(0.1)\n",
    "    if x < 2: return 1 \n",
    "    return (x * fac(x-1))\n",
    "The \n",
    "def sum(x):\n",
    "    sleep(0.1)\n",
    "    if x < 2: return 1 \n",
    "    return (x + sum(x-1))\n",
    "\n",
    "funcs = [fib, fac, sum]\n",
    "n = 12\n",
    "\n",
    "def main():\n",
    "    nfuncs = list(range(len(funcs)))\n",
    "    print('*** SINGLE THREAD') \n",
    "    for i in nfuncs:\n",
    "        print('starting', funcs[i].__name__, 'at:', ctime())\n",
    "        print(funcs[i](n))\n",
    "        print(funcs[i].__name__, 'finished at:', ctime())\n",
    "    print('\\n*** MULTIPLE THREADS')\n",
    "    threads = []\n",
    "    for i in nfuncs:\n",
    "        t = MyThread(funcs[i], (n,), funcs[i].__name__)\n",
    "        threads.append(t)\n",
    "    \n",
    "    for i in nfuncs:\n",
    "        threads[i].start()\n",
    "    \n",
    "    for i in nfuncs:\n",
    "        threads[i].join()\n",
    "        print(threads[i].getResult())\n",
    "    \n",
    "    print('all DONE')\n",
    "\n",
    "if __name__ == '__main__':\n",
    "    main()"
   ]
  },
  {
   "cell_type": "markdown",
   "metadata": {},
   "source": [
    "## Example: Book Rankings \"Screenscraper\"(bookrank.py)"
   ]
  },
  {
   "cell_type": "code",
   "execution_count": 22,
   "metadata": {},
   "outputs": [
    {
     "name": "stdout",
     "output_type": "stream",
     "text": [
      "At Sun May 26 10:37:40 2019 on Amazon...\n",
      "- 'Python Fundamentals' randked 5,299,974\n",
      "- 'Core Python Programming' randked 803,367\n",
      "- 'Python Web Development with Django' randked 372,528\n"
     ]
    }
   ],
   "source": [
    "#!/usr/bin/env python\n",
    "# coding:utf-8\n",
    "from atexit import register\n",
    "from re import compile\n",
    "from threading import Thread\n",
    "from time import ctime\n",
    "\n",
    "import requests\n",
    "\n",
    "REGEX = compile('#([\\d,]+) in Books')\n",
    "AMZN = 'https://amazon.com/dp/'\n",
    "ISBNs = {\n",
    "    '0132269937': 'Core Python Programming',\n",
    "    '0132356139': 'Python Web Development with Django',\n",
    "    '0137143419': 'Python Fundamentals',\n",
    "}\n",
    "\n",
    "def getRanking(isbn):\n",
    "    _url = '%s%s' % (AMZN, isbn)\n",
    "    user_agent = 'Mozilla/4.0 (compatible; MSIE 5.5; Windows NT)'\n",
    "    headers = {'User-Agent': user_agent}\n",
    "    page = requests.get(_url, headers=headers)\n",
    "    data = page.text\n",
    "    if page.status_code == 200:\n",
    "        return REGEX.findall(data)[0]\n",
    "    else:\n",
    "        return \"unknown\"\n",
    "\n",
    "def _showRanking(isbn):\n",
    "    print('- %r randked %s' %(ISBNs[isbn], getRanking(isbn)))\n",
    "\n",
    "def _main():\n",
    "    print('At', ctime(), 'on Amazon...')\n",
    "    for isbn in ISBNs:\n",
    "       # _showRanking(isbn)\n",
    "       Thread(target=_showRanking, args=(isbn,)).start()\n",
    "\n",
    "@register # atexit模块主要的作用就是在程序即将结束之前执行的代码, atexit.register 注册函数\n",
    "def _atexit():\n",
    "    print('all DONE at:', ctime())\n",
    "\n",
    "\n",
    "if __name__ == '__main__':\n",
    "    _main()"
   ]
  },
  {
   "cell_type": "markdown",
   "metadata": {},
   "source": [
    "## Locks and More Randomness (mtsleepF.py)"
   ]
  },
  {
   "cell_type": "code",
   "execution_count": 23,
   "metadata": {},
   "outputs": [
    {
     "name": "stdout",
     "output_type": "stream",
     "text": [
      "[Sun May 26 11:38:05 2019] Started Thread-34\n",
      "[Sun May 26 11:38:05 2019] Started Thread-35\n",
      "[Sun May 26 11:38:05 2019] Started Thread-36\n",
      "[Sun May 26 11:38:05 2019] Started Thread-37\n",
      "[Sun May 26 11:38:05 2019] Started Thread-38\n",
      "[Sun May 26 11:38:07 2019] Completed Thread-37 (2 secs)\n",
      " (remaining: Thread-35, Thread-36, Thread-38, Thread-34)\n",
      "[Sun May 26 11:38:08 2019] Completed Thread-34 (3 secs)\n",
      " (remaining: Thread-35, Thread-36, Thread-38)\n",
      "[Sun May 26 11:38:08 2019] Completed Thread-38 (3 secs)\n",
      " (remaining: Thread-35, Thread-36)\n",
      "[Sun May 26 11:38:09 2019] Completed Thread-35 (4 secs)\n",
      " (remaining: Thread-36)\n",
      "[Sun May 26 11:38:09 2019] Completed Thread-36 (4 secs)\n",
      " (remaining: NONE)\n"
     ]
    }
   ],
   "source": [
    "#!/usr/bin/env python\n",
    "from atexit import register\n",
    "from random import randrange\n",
    "from threading import Thread, currentThread, Lock\n",
    "from time import sleep, ctime\n",
    "\n",
    "\n",
    "class CleanOutputSet(set):\n",
    "    def __str__(self):\n",
    "        return ', '.join(x for x in self)\n",
    "\n",
    "\n",
    "loops = (randrange(2, 5) for x in range(randrange(3, 7)))\n",
    "remaining = CleanOutputSet()\n",
    "lock = Lock()\n",
    "\n",
    "def loop_without_lock(nsec):\n",
    "    myname = currentThread().name\n",
    "    remaining.add(myname)\n",
    "    print('[%s] Started %s' % (ctime(), myname))\n",
    "    sleep(nsec)\n",
    "    remaining.remove(myname)\n",
    "    print('[%s] Completed %s (%d secs)' % (ctime(), myname, nsec))\n",
    "    print(' (remaining: %s)' % (remaining or 'NONE'))\n",
    "\n",
    "def loop(nsec):\n",
    "    myname = currentThread().name\n",
    "    with lock:\n",
    "        remaining.add(myname)\n",
    "        print('[%s] Started %s' % (ctime(), myname))\n",
    "    sleep(nsec)\n",
    "    with lock:    # 等价于第一句添加lock.acquire(),最后一句添加lock.release()\n",
    "        remaining.remove(myname)\n",
    "        print('[%s] Completed %s (%d secs)' % (ctime(), myname, nsec))\n",
    "        print(' (remaining: %s)' % (remaining or 'NONE'))\n",
    "\n",
    "\n",
    "def _main():\n",
    "    for pause in loops:\n",
    "        Thread(target=loop, args=(pause,)).start()\n",
    "\n",
    "    # for pause in loops:\n",
    "    #     Thread(target=loop_without_lock, args=(pause,)).start()\n",
    "\n",
    "\n",
    "@register\n",
    "def _atexit():\n",
    "    print('all DONE at:', ctime())\n",
    "\n",
    "if __name__ == '__main__':\n",
    "    _main()\n"
   ]
  },
  {
   "cell_type": "code",
   "execution_count": null,
   "metadata": {},
   "outputs": [],
   "source": []
  }
 ],
 "metadata": {
  "kernelspec": {
   "display_name": "Python 3",
   "language": "python",
   "name": "python3"
  },
  "language_info": {
   "codemirror_mode": {
    "name": "ipython",
    "version": 3
   },
   "file_extension": ".py",
   "mimetype": "text/x-python",
   "name": "python",
   "nbconvert_exporter": "python",
   "pygments_lexer": "ipython3",
   "version": "3.7.3"
  }
 },
 "nbformat": 4,
 "nbformat_minor": 2
}
