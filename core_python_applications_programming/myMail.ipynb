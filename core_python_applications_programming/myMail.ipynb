{
 "cells": [
  {
   "cell_type": "code",
   "execution_count": 58,
   "metadata": {},
   "outputs": [
    {
     "name": "stdout",
     "output_type": "stream",
     "text": [
      "True\n",
      "From: test_p_email_001@126.com\n",
      "To: test_p_email_001@126.com\n",
      "Subject: test msg\n",
      "Hello World!\n",
      " \n",
      " Received: from lubical.local (unknown [121.237.234.208])\n",
      "\tby smtp3 (Coremail) with SMTP id DcmowABXfTbDI+Fc0u1CFg--.42710S2;\n",
      "\tSun, 19 May 2019 17:37:07 +0800 (CST)\n",
      "From: test_p_email_001@126.com\n",
      "To: test_p_email_001@126.com\n",
      "Subject: test msg\n",
      "Hello World!\n",
      "X-CM-TRANSID:DcmowABXfTbDI+Fc0u1CFg--.42710S2\n",
      "Message-Id:<5CE123C3.A666BE.24192@m15-113.126.com>\n",
      "X-Coremail-Antispam: 1Uf129KBjDUn29KB7ZKAUJUUUUU529EdanIXcx71UUUUU7v73\n",
      "\tVFW2AGmfu7bjvjm3AaLaJ3UbIYCTnIWIevJa73UjIFyTuYvjxUIyCJDUUUU\n",
      "X-Originating-IP: [121.237.234.208]\n",
      "Date: Sun, 19 May 2019 17:37:07 +0800 (CST)\n",
      "X-CM-SenderInfo: xwhv3s5sbhzthlobiiar6rjloofrz/1tbipAS5z1pD9J4DkQAAs3\n",
      "\n"
     ]
    }
   ],
   "source": [
    "from smtplib import SMTP\n",
    "from poplib import POP3\n",
    "from time import sleep\n",
    "from email.mime.text import MIMEText\n",
    "\n",
    "SMTPSVR = 'smtp.126.com'\n",
    "POP3SVR = 'pop.126.com'\n",
    "\n",
    "from_email = 'test_p_email_001@126.com'\n",
    "to_email = from_email\n",
    "pwd = 'test002'\n",
    "body = '''\\\n",
    "From: %(who)s\n",
    "To: %(who)s\n",
    "Subject: test msg\n",
    "Hello World!\n",
    "''' % {'who': from_email}\n",
    "\n",
    "sendSvr = SMTP(SMTPSVR)\n",
    "sendSvr.login(who, pwd)\n",
    "#errs = sendSvr.sendmail(from_email, [from_email], body.encode(\"utf-8\"))\n",
    "sendSvr.quit()\n",
    "\n",
    "assert len(errs) == 0, errs\n",
    "sleep(2)  # 等待2秒\n",
    "\n",
    "recSvr = POP3(POP3SVR)\n",
    "recSvr.user(from_email)\n",
    "recSvr.pass_(pwd)\n",
    "rsp, msg, siz = recSvr.retr(recSvr.stat()[0])\n",
    "msg_content = b\"\\n\".join(msg).decode(\"utf-8\")\n",
    "sep = msg_content.index('From')\n",
    "sep_end = msg_content.index('Hello World!')\n",
    "recvBody = msg_content[sep:sep_end+len('Hello World!')]+'\\n'\n",
    "print(body == recvBody)\n",
    "print(body,'\\n',msg_content)\n",
    "assert body == recvBody  # assert identical\n"
   ]
  },
  {
   "cell_type": "code",
   "execution_count": null,
   "metadata": {},
   "outputs": [],
   "source": []
  }
 ],
 "metadata": {
  "kernelspec": {
   "display_name": "Python 3",
   "language": "python",
   "name": "python3"
  },
  "language_info": {
   "codemirror_mode": {
    "name": "ipython",
    "version": 3
   },
   "file_extension": ".py",
   "mimetype": "text/x-python",
   "name": "python",
   "nbconvert_exporter": "python",
   "pygments_lexer": "ipython3",
   "version": "3.7.3"
  }
 },
 "nbformat": 4,
 "nbformat_minor": 2
}
