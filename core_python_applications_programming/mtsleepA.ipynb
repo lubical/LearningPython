{
 "cells": [
  {
   "cell_type": "markdown",
   "metadata": {},
   "source": [
    "## Using the thread Module(mtsleepA.py)"
   ]
  },
  {
   "cell_type": "code",
   "execution_count": 9,
   "metadata": {},
   "outputs": [
    {
     "name": "stdout",
     "output_type": "stream",
     "text": [
      "starting at: Sat May 25 11:00:04 2019\n",
      "all DONE at: Sat May 25 11:00:04 2019\n",
      "start loop 1 at: Sat May 25 11:00:04 2019start loop 0 at: Sat May 25 11:00:04 2019\n",
      "\n",
      "loop 1 done at: Sat May 25 11:00:06 2019\n",
      "loop 0 done at: Sat May 25 11:00:08 2019\n"
     ]
    }
   ],
   "source": [
    "#!/usr/bin/env python\n",
    "import _thread as thread\n",
    "from time import sleep, ctime\n",
    "\n",
    "def loop0():\n",
    "    print('start loop 0 at: {}'.format(ctime()))\n",
    "    sleep(4)\n",
    "    print('loop 0 done at: {}'.format(ctime()))\n",
    "\n",
    "def loop1():\n",
    "    print('start loop 1 at: {}'.format(ctime()))\n",
    "    sleep(2)\n",
    "    print('loop 1 done at: {}'.format(ctime()))\n",
    "\n",
    "def main():\n",
    "    print('starting at: {}'.format(ctime()))\n",
    "    thread.start_new_thread(loop0, ())\n",
    "    thread.start_new_thread(loop1, ())\n",
    "    sleep(6)\n",
    "    print('all DONE at: {}'.format(ctime()))\n",
    "\n",
    "    \n",
    "if __name__ == '__main__':\n",
    "    main()"
   ]
  },
  {
   "cell_type": "markdown",
   "metadata": {},
   "source": [
    "## Using thread and locks(mtsleepB.py)"
   ]
  },
  {
   "cell_type": "code",
   "execution_count": 11,
   "metadata": {},
   "outputs": [
    {
     "name": "stdout",
     "output_type": "stream",
     "text": [
      "starting at: Sat May 25 11:19:35 2019\n",
      "start loop 1 at: Sat May 25 11:19:35 2019\n",
      "start loop 0 at: Sat May 25 11:19:35 2019\n",
      "loop 1 done at: Sat May 25 11:19:37 2019\n",
      "loop 0 done at: Sat May 25 11:19:39 2019\n",
      "all DONE at: Sat May 25 11:19:39 2019\n"
     ]
    }
   ],
   "source": [
    "#!/usr/bin/env python\n",
    "import _thread as thread\n",
    "from time import sleep, ctime\n",
    "\n",
    "loops = [4, 2]\n",
    "\n",
    "def loop(nloop, nsec, lock):\n",
    "    print('start loop {} at: {}'.format(nloop, ctime()))\n",
    "    sleep(nsec)\n",
    "    print('loop {} done at: {}'.format(nloop, ctime()))\n",
    "    lock.release()\n",
    "\n",
    "def main():\n",
    "    print('starting at: {}'.format(ctime()))\n",
    "    locks = []\n",
    "    nloops = list(range(len(loops)))\n",
    "    \n",
    "    for i in nloops:\n",
    "        lock = thread.allocate_lock()\n",
    "        lock.acquire()\n",
    "        locks.append(lock)\n",
    "    \n",
    "    for i in nloops:\n",
    "        thread.start_new_thread(loop, (i, loops[i], locks[i]))\n",
    "    \n",
    "    for i in nloops:\n",
    "        while locks[i].locked(): pass\n",
    "   \n",
    "    print('all DONE at: {}'.format(ctime()))\n",
    "\n",
    "    \n",
    "if __name__ == '__main__':\n",
    "    main()"
   ]
  },
  {
   "cell_type": "markdown",
   "metadata": {},
   "source": [
    "## Using the threading Moudle\n",
    "### Create Thread Instance, Passing in Function(mtsleepC.py)"
   ]
  },
  {
   "cell_type": "code",
   "execution_count": 15,
   "metadata": {},
   "outputs": [
    {
     "name": "stdout",
     "output_type": "stream",
     "text": [
      "starting at: Sat May 25 11:37:11 2019\n",
      "start loop 0 at: Sat May 25 11:37:11 2019\n",
      "start loop 1 at: Sat May 25 11:37:11 2019\n",
      "loop 1 done at: Sat May 25 11:37:13 2019\n",
      "loop 0 done at: Sat May 25 11:37:15 2019\n",
      "all DONE at: Sat May 25 11:37:15 2019\n"
     ]
    }
   ],
   "source": [
    "#!/usr/bin/env python\n",
    "import threading\n",
    "from time import sleep, ctime\n",
    "\n",
    "loops = [4, 2]\n",
    "\n",
    "def loop(nloop, nsec):\n",
    "    print('start loop {} at: {}'.format(nloop, ctime()))\n",
    "    sleep(nsec)\n",
    "    print('loop {} done at: {}'.format(nloop, ctime()))\n",
    "\n",
    "def main():\n",
    "    print('starting at: {}'.format(ctime()))\n",
    "    threads = []\n",
    "    nloops = list(range(len(loops)))\n",
    "    \n",
    "    for i in nloops:\n",
    "        t = threading.Thread(target=loop, args=(i, loops[i]))\n",
    "        threads.append(t)\n",
    "        \n",
    "    for i in nloops:\n",
    "        threads[i].start() # start threads\n",
    "        \n",
    "    for i in nloops:    # wait for all\n",
    "        threads[i].join()   # threas to finish\n",
    "   \n",
    "    print('all DONE at: {}'.format(ctime()))\n",
    "\n",
    "    \n",
    "if __name__ == '__main__':\n",
    "    main()"
   ]
  },
  {
   "cell_type": "markdown",
   "metadata": {},
   "source": [
    "### Create Thread Instance, Passing in Callable Class Instance(mtsleepD.py)"
   ]
  },
  {
   "cell_type": "code",
   "execution_count": 16,
   "metadata": {},
   "outputs": [
    {
     "name": "stdout",
     "output_type": "stream",
     "text": [
      "starting at: Sat May 25 11:43:13 2019\n",
      "start loop 0 at: Sat May 25 11:43:13 2019\n",
      "start loop 1 at: Sat May 25 11:43:13 2019\n",
      "loop 1 done at: Sat May 25 11:43:15 2019\n",
      "loop 0 done at: Sat May 25 11:43:17 2019\n",
      "all DONE at: Sat May 25 11:43:17 2019\n"
     ]
    }
   ],
   "source": [
    "#!/usr/bin/env python\n",
    "import threading\n",
    "from time import sleep, ctime\n",
    "\n",
    "loops = [4, 2]\n",
    "\n",
    "class ThreadFunc(object):\n",
    "    \n",
    "    def __init__(self, func, args, name=''):\n",
    "        self.name = name\n",
    "        self.func = func\n",
    "        self.args = args\n",
    "        \n",
    "    def __call__(self):\n",
    "        self.func(*self.args)\n",
    "\n",
    "def loop(nloop, nsec):\n",
    "    print('start loop {} at: {}'.format(nloop, ctime()))\n",
    "    sleep(nsec)\n",
    "    print('loop {} done at: {}'.format(nloop, ctime()))\n",
    "    \n",
    "\n",
    "def main():\n",
    "    print('starting at: {}'.format(ctime()))\n",
    "    threads = []\n",
    "    nloops = list(range(len(loops)))\n",
    "    \n",
    "    for i in nloops:\n",
    "        t = threading.Thread(target=ThreadFunc(loop,(i, loops[i]), loop.__name__))\n",
    "        threads.append(t)\n",
    "        \n",
    "    for i in nloops:\n",
    "        threads[i].start() # start threads\n",
    "        \n",
    "    for i in nloops:    # wait for all\n",
    "        threads[i].join()   # threas to finish\n",
    "   \n",
    "    print('all DONE at: {}'.format(ctime()))\n",
    "\n",
    "    \n",
    "if __name__ == '__main__':\n",
    "    main()"
   ]
  },
  {
   "cell_type": "markdown",
   "metadata": {},
   "source": [
    "### Subclass Thread and Create Subclass Instance（mtsleepE.py）"
   ]
  },
  {
   "cell_type": "code",
   "execution_count": 17,
   "metadata": {},
   "outputs": [
    {
     "name": "stdout",
     "output_type": "stream",
     "text": [
      "starting at: Sat May 25 11:48:53 2019\n",
      "start loop 0 at: Sat May 25 11:48:53 2019start loop 1 at: Sat May 25 11:48:53 2019\n",
      "\n",
      "loop 1 done at: Sat May 25 11:48:55 2019\n",
      "loop 0 done at: Sat May 25 11:48:57 2019\n",
      "all DONE at: Sat May 25 11:48:57 2019\n"
     ]
    }
   ],
   "source": [
    "#!/usr/bin/env python\n",
    "import threading\n",
    "from time import sleep, ctime\n",
    "\n",
    "loops = [4, 2]\n",
    "\n",
    "class MyThread(threading.Thread):\n",
    "    \n",
    "    def __init__(self, func, args, name=''):\n",
    "        threading.Thread.__init__(self)\n",
    "        self.name = name\n",
    "        self.func = func\n",
    "        self.args = args\n",
    "        \n",
    "    def run(self):\n",
    "        self.func(*self.args)\n",
    "\n",
    "def loop(nloop, nsec):\n",
    "    print('start loop {} at: {}'.format(nloop, ctime()))\n",
    "    sleep(nsec)\n",
    "    print('loop {} done at: {}'.format(nloop, ctime()))\n",
    "    \n",
    "\n",
    "def main():\n",
    "    print('starting at: {}'.format(ctime()))\n",
    "    threads = []\n",
    "    nloops = list(range(len(loops)))\n",
    "    \n",
    "    for i in nloops:\n",
    "        t = MyThread(loop,(i, loops[i]), loop.__name__)\n",
    "        threads.append(t)\n",
    "        \n",
    "    for i in nloops:\n",
    "        threads[i].start() # start threads\n",
    "        \n",
    "    for i in nloops:    # wait for all\n",
    "        threads[i].join()   # threas to finish\n",
    "   \n",
    "    print('all DONE at: {}'.format(ctime()))\n",
    "\n",
    "    \n",
    "if __name__ == '__main__':\n",
    "    main()"
   ]
  },
  {
   "cell_type": "code",
   "execution_count": null,
   "metadata": {},
   "outputs": [],
   "source": []
  }
 ],
 "metadata": {
  "kernelspec": {
   "display_name": "Python 3",
   "language": "python",
   "name": "python3"
  },
  "language_info": {
   "codemirror_mode": {
    "name": "ipython",
    "version": 3
   },
   "file_extension": ".py",
   "mimetype": "text/x-python",
   "name": "python",
   "nbconvert_exporter": "python",
   "pygments_lexer": "ipython3",
   "version": "3.7.3"
  }
 },
 "nbformat": 4,
 "nbformat_minor": 2
}
