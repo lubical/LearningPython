{
 "cells": [
  {
   "cell_type": "code",
   "execution_count": 3,
   "metadata": {},
   "outputs": [
    {
     "name": "stdout",
     "output_type": "stream",
     "text": [
      "ERROR: cannot reach \"https://ftp.mozilla.org/\"\n"
     ]
    }
   ],
   "source": [
    "#!/usr/bin/env python\n",
    "import ftplib\n",
    "import os\n",
    "import socket\n",
    "\n",
    "# 已关闭，不可用\n",
    "# HOST = 'https://ftp.mozilla.org/'   \n",
    "# DIRN = 'pub/mozilla.org/webtools'\n",
    "# FILE = 'bugzilla-LATEST.tar.gz'\n",
    "\n",
    "# 实测可以正常运行的站点\n",
    "HOST = 'ftp.sjtu.edu.cn'\n",
    "DIRN = 'pub/software/chinese/'\n",
    "FILE = 'zhcon-0.2.3-1.i386.rpm'\n",
    "\n",
    "\n",
    "def main():\n",
    "    try:\n",
    "        f = ftplib.FTP(HOST)\n",
    "    except (socket.error, socket.gaierror) as e:\n",
    "        print('ERROR: cannot reach \"%s\"' % HOST)\n",
    "        return\n",
    "    print('*** Connected to host \"%s\"' % HOST)\n",
    "    try:\n",
    "        f.login()\n",
    "    except ftplib.error_perm:\n",
    "        print('ERROR: cannot login anonymously')\n",
    "        f.quit()\n",
    "        return\n",
    "    print('*** Logged in as \"anonymous\"')\n",
    "    try:\n",
    "        f.cwd(DIRN)\n",
    "    except ftplib.error_perm:\n",
    "        print('ERROR: cannot CD to \"%s\"' % DIRN)\n",
    "        f.quit()\n",
    "        return\n",
    "    print('*** Changed to \"%s\" folder' % DIRN)\n",
    "    try:\n",
    "        f.retrbinary('RETR %s' % FILE,\n",
    "                     open(FILE, 'wb').write)\n",
    "    except ftplib.error_perm:\n",
    "        print('ERROR: cannot read file \"%s\"' % FILE)\n",
    "        os.unlink(FILE)\n",
    "    else:\n",
    "        print('*** Downloaded \"%s\" to CWD' % FILE)\n",
    "        f.quit()\n",
    "    return\n",
    "\n",
    "if __name__ == '__main__':\n",
    "    main()\n"
   ]
  },
  {
   "cell_type": "code",
   "execution_count": null,
   "metadata": {},
   "outputs": [],
   "source": []
  }
 ],
 "metadata": {
  "kernelspec": {
   "display_name": "Python 3",
   "language": "python",
   "name": "python3"
  },
  "language_info": {
   "codemirror_mode": {
    "name": "ipython",
    "version": 3
   },
   "file_extension": ".py",
   "mimetype": "text/x-python",
   "name": "python",
   "nbconvert_exporter": "python",
   "pygments_lexer": "ipython3",
   "version": "3.7.3"
  }
 },
 "nbformat": 4,
 "nbformat_minor": 2
}
